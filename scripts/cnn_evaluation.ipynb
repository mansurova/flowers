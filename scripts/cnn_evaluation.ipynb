{
 "cells": [
  {
   "cell_type": "code",
   "execution_count": null,
   "metadata": {
    "ExecuteTime": {
     "end_time": "2020-06-13T18:00:18.950630Z",
     "start_time": "2020-06-13T17:59:57.433145Z"
    }
   },
   "outputs": [],
   "source": [
    "import logging\n",
    "import os\n",
    "\n",
    "import numpy as np\n",
    "import tensorflow as tf\n",
    "from sklearn.metrics import confusion_matrix, f1_score\n",
    "from augment_data import augment_images\n",
    "\n",
    "import matplotlib.pyplot as plt\n",
    "\n",
    "# Logging Configuration\n",
    "logging.basicConfig(level=logging.INFO,\n",
    "                    format='%(name)s\\t[%(levelname)-8s] %(message)s')\n",
    "logger = logging.getLogger('CNN Eval')\n",
    "logger.info('Tensorflow Version: %s' % tf.__version__)"
   ]
  },
  {
   "cell_type": "markdown",
   "metadata": {},
   "source": [
    "# Loading Data\n",
    "## Loading pre-trained model"
   ]
  },
  {
   "cell_type": "code",
   "execution_count": null,
   "metadata": {
    "ExecuteTime": {
     "end_time": "2020-06-13T18:03:05.010294Z",
     "start_time": "2020-06-13T18:00:46.361464Z"
    }
   },
   "outputs": [],
   "source": [
    "# Loading trained model\n",
    "model_name = '../model/cnn_model_mobilenet'\n",
    "model = tf.keras.models.load_model(model_name)\n",
    "model_name = '../model/cnn_model_resnet'\n",
    "model2 = tf.keras.models.load_model(model_name)"
   ]
  },
  {
   "cell_type": "markdown",
   "metadata": {},
   "source": [
    "## Loading data"
   ]
  },
  {
   "cell_type": "code",
   "execution_count": null,
   "metadata": {
    "ExecuteTime": {
     "end_time": "2020-06-13T18:03:05.048287Z",
     "start_time": "2020-06-13T18:03:05.038284Z"
    }
   },
   "outputs": [],
   "source": [
    "cwd = os.getcwd() # current working directory\n",
    "base_dir = os.path.join(cwd, 'data') # base image directory\n",
    "train_dir = os.path.join(base_dir, 'train')\n",
    "val_dir = os.path.join(base_dir, 'val')\n",
    "test_dir = os.path.join(base_dir, 'flowers', 'test')"
   ]
  },
  {
   "cell_type": "code",
   "execution_count": null,
   "metadata": {
    "ExecuteTime": {
     "end_time": "2020-06-13T18:03:05.076281Z",
     "start_time": "2020-06-13T18:03:05.068283Z"
    }
   },
   "outputs": [],
   "source": [
    "# Define classes\n",
    "classes = ['daisy', 'dandelion', 'rose', 'sunflower', 'tulip']"
   ]
  },
  {
   "cell_type": "markdown",
   "metadata": {},
   "source": [
    "# Visualizing Predictions"
   ]
  },
  {
   "cell_type": "code",
   "execution_count": null,
   "metadata": {
    "ExecuteTime": {
     "end_time": "2020-06-13T18:06:29.326157Z",
     "start_time": "2020-06-13T18:06:21.567312Z"
    }
   },
   "outputs": [],
   "source": [
    "batch_size = 30\n",
    "img_height, img_width = 160, 160\n",
    "train_image_gen = augment_images(train_dir, \n",
    "        batch_size=batch_size,\n",
    "        output_shape=(img_height, img_width),\n",
    "        )\n",
    "val_image_gen = augment_images(val_dir, \n",
    "        batch_size=batch_size,\n",
    "        output_shape=(img_height, img_width),\n",
    "        )\n",
    "image_batch, label_batch = next(val_image_gen)\n",
    "\n",
    "predictions = model.predict(image_batch)\n",
    "predicted_ids = np.argmax(predictions, axis=-1)\n",
    "plt.figure(figsize=(16,15))\n",
    "for n in range(30):\n",
    "  plt.subplot(6,5,n+1)\n",
    "  plt.subplots_adjust(hspace = 0.3)\n",
    "  plt.imshow(image_batch[n])\n",
    "  color = \"blue\" if predicted_ids[n] == label_batch[n] else \"red\"\n",
    "  plt.title(classes[predicted_ids[n]].title(), color=color)\n",
    "  plt.axis('off')\n",
    "_ = plt.suptitle(\"Model predictions (blue: correct, red: incorrect)\")\n",
    "plt.savefig(\"output/cnn_model_predictions3.png\")"
   ]
  },
  {
   "cell_type": "code",
   "execution_count": null,
   "metadata": {
    "ExecuteTime": {
     "end_time": "2020-06-10T21:22:51.502668Z",
     "start_time": "2020-06-10T21:22:51.486708Z"
    }
   },
   "outputs": [],
   "source": [
    "FIGSIZE = 16, 10\n",
    "def get_predictions(image_gen, model):\n",
    "    image_batch, y_true = next(image_gen)\n",
    "    y_pred = model.predict(image_batch)\n",
    "\n",
    "    return y_pred, y_true\n",
    "\n",
    "def get_metrics(y_true, y_pred):\n",
    "    predicted_ids = np.argmax(y_pred, axis=-1)\n",
    "    metric = dict(\n",
    "        conf_mx = metrics.confusion_matrix(y_true, predicted_ids),\n",
    "        multi_conf_mx = metrics.multilabel_confusion_matrix(y_true, predicted_ids),\n",
    "        f1 = metrics.f1_score(np.int64(y_true), predicted_ids, average=None),\n",
    "        acc = metrics.accuracy_score(y_true, predicted_ids),\n",
    "        avg_recall = metrics.recall_score(y_true, predicted_ids, average=None),\n",
    "        avg_precision = metrics.precision_score(y_true, predicted_ids, average=None),\n",
    "        report = metrics.classification_report(y_true, predicted_ids, \n",
    "                                               labels=[i for i in range(5)], \n",
    "                                               target_names=classes)\n",
    "    )\n",
    "    return metric\n",
    "\n",
    "def plot_conf_mx(conf_mx, title):\n",
    "    fig = plt.figure(figsize=FIGSIZE)\n",
    "    plt.subplot(1,2,1)\n",
    "    plt.imshow(conf_mx)\n",
    "    plt.colorbar()\n",
    "    plt.title(\"Confusion Matrix %s\" % title)\n",
    "\n",
    "    plt.subplot(1,2,2)\n",
    "    np.fill_diagonal(conf_mx, 0)\n",
    "    plt.imshow(conf_mx)\n",
    "    plt.colorbar()\n",
    "    plt.title(\"Confusion Matrix %s (without diagonals)\" % title)\n",
    "    plt.savefig('../output/confusion_matrix_%s.png' % title)\n",
    "    plt.show()\n",
    "\n",
    "def plot_f1(f1, title):\n",
    "    plt.figure(figsize=FIGSIZE)\n",
    "    plt.bar(classes, f1)\n",
    "    plt.ylim([0,1])\n",
    "    plt.title(\"F1 Score %s\" % title)\n",
    "    plt.savefig('../output/f1_score_%s.png' % title)\n",
    "    plt.show()\n",
    "\n",
    "def plot_precision_recall(label_batch, y_pred, title):\n",
    "    predicted_ids = np.argmax(y_pred, axis=-1)\n",
    "    avg_prec = metrics.precision_score(label_batch, predicted_ids, average=None)\n",
    "    fig, ax = plt.subplots(figsize=(16,9))\n",
    "    for i, cl in enumerate(classes):\n",
    "        y_true = label_batch == i\n",
    "        probas_pred = y_pred[:,i]\n",
    "        precision, recall, thresholds = metrics.precision_recall_curve(y_true, probas_pred)\n",
    "        metrics.PrecisionRecallDisplay(precision, recall, \n",
    "                                       average_precision=avg_prec[i], \n",
    "                                       estimator_name=None).plot(ax=ax, name=cl)\n",
    "    plt.savefig('../output/precision_recall_%s.png' % title)"
   ]
  },
  {
   "cell_type": "code",
   "execution_count": null,
   "metadata": {
    "ExecuteTime": {
     "end_time": "2020-06-11T07:54:51.416012Z",
     "start_time": "2020-06-11T07:52:28.926345Z"
    },
    "scrolled": true
   },
   "outputs": [],
   "source": [
    "img_size = 224, 224\n",
    "train_image_gen = augment_images(train_dir, \n",
    "        batch_size=4030,\n",
    "        output_shape=img_size,\n",
    "        )\n",
    "val_image_gen = augment_images(val_dir, \n",
    "        batch_size=1010,\n",
    "        output_shape=img_size,\n",
    "        )\n",
    "test_image_gen = augment_images(test_dir, \n",
    "        batch_size=1260,\n",
    "        output_shape=img_size,\n",
    "        )\n",
    "\n",
    "predictions = {}\n",
    "metric = {}\n",
    "\n",
    "for mname, m in [(\"mobilenet\", model), \n",
    "                 (\"resnet\", model2)]:\n",
    "    for title, image_gen in [('%s_Training' % mname, train_image_gen),\n",
    "                             ('%s_Validation' % mname, val_image_gen),\n",
    "                             ('%s_Test' % mname, test_image_gen),\n",
    "                            ]:\n",
    "        # Get predictions\n",
    "        logger.info('Get Predictions for %s' % title)\n",
    "        y_pred, y_true = get_predictions(image_gen, m)\n",
    "        predictions[title] = {'y_pred': y_pred,\n",
    "                              'y_true': y_true}\n",
    "\n",
    "        # Calculate metrics\n",
    "        logger.info('Calculate Metrics for %s' % title)\n",
    "        metric[title] = get_metrics(y_true, y_pred)\n",
    "\n",
    "        # Print important informations\n",
    "        print(metric[title].get('report'))\n",
    "\n",
    "        # Plot important metrics\n",
    "        logger.info('Plotting for %s' % title)\n",
    "        plot_conf_mx(metric[title].get('conf_mx'), title)\n",
    "        plot_f1(metric[title].get('f1'), title)\n",
    "        plot_precision_recall(y_true, y_pred, title)"
   ]
  },
  {
   "cell_type": "code",
   "execution_count": null,
   "metadata": {},
   "outputs": [],
   "source": []
  }
 ],
 "metadata": {
  "kernelspec": {
   "display_name": "Python 3 (base)",
   "language": "python",
   "name": "base"
  },
  "language_info": {
   "codemirror_mode": {
    "name": "ipython",
    "version": 3
   },
   "file_extension": ".py",
   "mimetype": "text/x-python",
   "name": "python",
   "nbconvert_exporter": "python",
   "pygments_lexer": "ipython3",
   "version": "3.7.3"
  },
  "toc": {
   "base_numbering": 1,
   "nav_menu": {},
   "number_sections": true,
   "sideBar": true,
   "skip_h1_title": false,
   "title_cell": "Table of Contents",
   "title_sidebar": "Contents",
   "toc_cell": false,
   "toc_position": {},
   "toc_section_display": true,
   "toc_window_display": false
  },
  "varInspector": {
   "cols": {
    "lenName": 16,
    "lenType": 16,
    "lenVar": 40
   },
   "kernels_config": {
    "python": {
     "delete_cmd_postfix": "",
     "delete_cmd_prefix": "del ",
     "library": "var_list.py",
     "varRefreshCmd": "print(var_dic_list())"
    },
    "r": {
     "delete_cmd_postfix": ") ",
     "delete_cmd_prefix": "rm(",
     "library": "var_list.r",
     "varRefreshCmd": "cat(var_dic_list()) "
    }
   },
   "types_to_exclude": [
    "module",
    "function",
    "builtin_function_or_method",
    "instance",
    "_Feature"
   ],
   "window_display": false
  }
 },
 "nbformat": 4,
 "nbformat_minor": 4
}
